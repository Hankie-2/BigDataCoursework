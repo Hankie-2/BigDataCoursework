{
 "cells": [
  {
   "cell_type": "code",
   "execution_count": 1,
   "id": "c8ecb7d0",
   "metadata": {},
   "outputs": [
    {
     "name": "stderr",
     "output_type": "stream",
     "text": [
      "C:\\Users\\User\\anaconda3\\envs\\myEnv\\lib\\site-packages\\tqdm\\auto.py:22: TqdmWarning: IProgress not found. Please update jupyter and ipywidgets. See https://ipywidgets.readthedocs.io/en/stable/user_install.html\n",
      "  from .autonotebook import tqdm as notebook_tqdm\n"
     ]
    }
   ],
   "source": [
    "import pandas as pd\n",
    "import numpy as np\n",
    "from tqdm.auto import tqdm,trange"
   ]
  },
  {
   "cell_type": "code",
   "execution_count": 2,
   "id": "e49d64e2",
   "metadata": {},
   "outputs": [],
   "source": [
    "data = pd.read_excel(\"akipress_data_general.xlsx\")"
   ]
  },
  {
   "cell_type": "code",
   "execution_count": 3,
   "id": "69917d0e",
   "metadata": {},
   "outputs": [
    {
     "data": {
      "text/plain": [
       "(184, 4)"
      ]
     },
     "execution_count": 3,
     "metadata": {},
     "output_type": "execute_result"
    }
   ],
   "source": [
    "data.shape"
   ]
  },
  {
   "cell_type": "code",
   "execution_count": 4,
   "id": "a2dc799c",
   "metadata": {},
   "outputs": [
    {
     "data": {
      "text/html": [
       "<div>\n",
       "<style scoped>\n",
       "    .dataframe tbody tr th:only-of-type {\n",
       "        vertical-align: middle;\n",
       "    }\n",
       "\n",
       "    .dataframe tbody tr th {\n",
       "        vertical-align: top;\n",
       "    }\n",
       "\n",
       "    .dataframe thead th {\n",
       "        text-align: right;\n",
       "    }\n",
       "</style>\n",
       "<table border=\"1\" class=\"dataframe\">\n",
       "  <thead>\n",
       "    <tr style=\"text-align: right;\">\n",
       "      <th></th>\n",
       "      <th>url</th>\n",
       "      <th>title</th>\n",
       "      <th>text</th>\n",
       "      <th>topic</th>\n",
       "    </tr>\n",
       "  </thead>\n",
       "  <tbody>\n",
       "    <tr>\n",
       "      <th>0</th>\n",
       "      <td>https://culture.akipress.org/news:1822318</td>\n",
       "      <td>Комитет ЖК утвердил сумму премии МПА СНГ имени...</td>\n",
       "      <td>Комитет Жогорку Кенеша по международным делам,...</td>\n",
       "      <td>Культура</td>\n",
       "    </tr>\n",
       "    <tr>\n",
       "      <th>1</th>\n",
       "      <td>https://culture.akipress.org/news:1822314</td>\n",
       "      <td>Комитет ЖК перенес рассмотрение ратификации пр...</td>\n",
       "      <td>Комитет Жогорку Кенеша по международным делам,...</td>\n",
       "      <td>Культура</td>\n",
       "    </tr>\n",
       "    <tr>\n",
       "      <th>2</th>\n",
       "      <td>https://culture.akipress.org/news:1822131</td>\n",
       "      <td>Лучшим фильмом по климатическим изменениям на ...</td>\n",
       "      <td>17 ноября 2022 года на церемонии закрытия XVI ...</td>\n",
       "      <td>Культура</td>\n",
       "    </tr>\n",
       "    <tr>\n",
       "      <th>3</th>\n",
       "      <td>https://culture.akipress.org/news:1822063</td>\n",
       "      <td>В Русском драмтеатре пройдет показ спектакля «...</td>\n",
       "      <td>В Русском театре драмы им. Ч. Айтматова 23 ноя...</td>\n",
       "      <td>Культура</td>\n",
       "    </tr>\n",
       "    <tr>\n",
       "      <th>4</th>\n",
       "      <td>https://culture.akipress.org/news:1822050</td>\n",
       "      <td>Протекает крыша библиотеки Араванского района,...</td>\n",
       "      <td>Члены Комитета Жогорку Кенеша по социальной по...</td>\n",
       "      <td>Культура</td>\n",
       "    </tr>\n",
       "    <tr>\n",
       "      <th>...</th>\n",
       "      <td>...</td>\n",
       "      <td>...</td>\n",
       "      <td>...</td>\n",
       "      <td>...</td>\n",
       "    </tr>\n",
       "    <tr>\n",
       "      <th>179</th>\n",
       "      <td>https://sport.akipress.org/news:1822011/?from=...</td>\n",
       "      <td>В селе Комсомольском в Сокулукском районе пост...</td>\n",
       "      <td>Фрунзенский айыл окмоту Сокулукского района Чу...</td>\n",
       "      <td>Спорт</td>\n",
       "    </tr>\n",
       "    <tr>\n",
       "      <th>180</th>\n",
       "      <td>https://sport.akipress.org/news:1822006/?from=...</td>\n",
       "      <td>Уроженец Кыргызстана завоевал золото на междун...</td>\n",
       "      <td>Уроженец Кыргызстана Феликс Айдаркеев завоевал...</td>\n",
       "      <td>Спорт</td>\n",
       "    </tr>\n",
       "    <tr>\n",
       "      <th>181</th>\n",
       "      <td>https://sport.akipress.org/news:1821822/?from=...</td>\n",
       "      <td>ЧМ-2022: Эквадор обыграл Катар</td>\n",
       "      <td>Сборная Эквадора по футболу с победы стартовал...</td>\n",
       "      <td>Спорт</td>\n",
       "    </tr>\n",
       "    <tr>\n",
       "      <th>182</th>\n",
       "      <td>https://sport.akipress.org/news:1821706/?from=...</td>\n",
       "      <td>Сегодня в Катаре стартует ЧМ по футболу. Распи...</td>\n",
       "      <td>Чемпионат мира по футболу-2022 пройдет в Катар...</td>\n",
       "      <td>Спорт</td>\n",
       "    </tr>\n",
       "    <tr>\n",
       "      <th>183</th>\n",
       "      <td>https://sport.akipress.org/news:1821671/?from=...</td>\n",
       "      <td>Два кыргызстанских борца в финале турнира в СШ...</td>\n",
       "      <td>Два борца из Кыргызстана вышли в финал междуна...</td>\n",
       "      <td>Спорт</td>\n",
       "    </tr>\n",
       "  </tbody>\n",
       "</table>\n",
       "<p>184 rows × 4 columns</p>\n",
       "</div>"
      ],
      "text/plain": [
       "                                                   url  \\\n",
       "0            https://culture.akipress.org/news:1822318   \n",
       "1            https://culture.akipress.org/news:1822314   \n",
       "2            https://culture.akipress.org/news:1822131   \n",
       "3            https://culture.akipress.org/news:1822063   \n",
       "4            https://culture.akipress.org/news:1822050   \n",
       "..                                                 ...   \n",
       "179  https://sport.akipress.org/news:1822011/?from=...   \n",
       "180  https://sport.akipress.org/news:1822006/?from=...   \n",
       "181  https://sport.akipress.org/news:1821822/?from=...   \n",
       "182  https://sport.akipress.org/news:1821706/?from=...   \n",
       "183  https://sport.akipress.org/news:1821671/?from=...   \n",
       "\n",
       "                                                 title  \\\n",
       "0    Комитет ЖК утвердил сумму премии МПА СНГ имени...   \n",
       "1    Комитет ЖК перенес рассмотрение ратификации пр...   \n",
       "2    Лучшим фильмом по климатическим изменениям на ...   \n",
       "3    В Русском драмтеатре пройдет показ спектакля «...   \n",
       "4    Протекает крыша библиотеки Араванского района,...   \n",
       "..                                                 ...   \n",
       "179  В селе Комсомольском в Сокулукском районе пост...   \n",
       "180  Уроженец Кыргызстана завоевал золото на междун...   \n",
       "181                     ЧМ-2022: Эквадор обыграл Катар   \n",
       "182  Сегодня в Катаре стартует ЧМ по футболу. Распи...   \n",
       "183  Два кыргызстанских борца в финале турнира в СШ...   \n",
       "\n",
       "                                                  text     topic  \n",
       "0    Комитет Жогорку Кенеша по международным делам,...  Культура  \n",
       "1    Комитет Жогорку Кенеша по международным делам,...  Культура  \n",
       "2    17 ноября 2022 года на церемонии закрытия XVI ...  Культура  \n",
       "3    В Русском театре драмы им. Ч. Айтматова 23 ноя...  Культура  \n",
       "4    Члены Комитета Жогорку Кенеша по социальной по...  Культура  \n",
       "..                                                 ...       ...  \n",
       "179  Фрунзенский айыл окмоту Сокулукского района Чу...     Спорт  \n",
       "180  Уроженец Кыргызстана Феликс Айдаркеев завоевал...     Спорт  \n",
       "181  Сборная Эквадора по футболу с победы стартовал...     Спорт  \n",
       "182  Чемпионат мира по футболу-2022 пройдет в Катар...     Спорт  \n",
       "183  Два борца из Кыргызстана вышли в финал междуна...     Спорт  \n",
       "\n",
       "[184 rows x 4 columns]"
      ]
     },
     "execution_count": 4,
     "metadata": {},
     "output_type": "execute_result"
    }
   ],
   "source": [
    "data"
   ]
  },
  {
   "cell_type": "code",
   "execution_count": 5,
   "id": "8a94b160",
   "metadata": {},
   "outputs": [
    {
     "name": "stdout",
     "output_type": "stream",
     "text": [
      "['Культура' 'Аналитика' 'Спорт']\n"
     ]
    }
   ],
   "source": [
    "print(data['topic'].unique())"
   ]
  },
  {
   "cell_type": "code",
   "execution_count": 51,
   "id": "8938ec1a",
   "metadata": {},
   "outputs": [],
   "source": [
    "topics = [\"Культура\" ,\"Аналитика\", \"Спорт\"]\n",
    "articles_in_cat_count = 100"
   ]
  },
  {
   "cell_type": "code",
   "execution_count": 52,
   "id": "e7b6921a",
   "metadata": {},
   "outputs": [
    {
     "name": "stderr",
     "output_type": "stream",
     "text": [
      "100%|██████████| 3/3 [00:00<00:00, 998.09it/s]\n"
     ]
    }
   ],
   "source": [
    "df_res = pd.DataFrame()\n",
    "\n",
    "for topic in tqdm(topics):\n",
    "    df_topic = data[data['topic'] == topic][:articles_in_cat_count]\n",
    "    df_res = df_res.append(df_topic, ignore_index=True)"
   ]
  },
  {
   "cell_type": "code",
   "execution_count": 53,
   "id": "f0c0acfc",
   "metadata": {},
   "outputs": [
    {
     "data": {
      "text/plain": [
       "(184, 4)"
      ]
     },
     "execution_count": 53,
     "metadata": {},
     "output_type": "execute_result"
    }
   ],
   "source": [
    "df_res.shape"
   ]
  },
  {
   "cell_type": "code",
   "execution_count": 54,
   "id": "e7bb0231",
   "metadata": {},
   "outputs": [
    {
     "data": {
      "text/html": [
       "<div>\n",
       "<style scoped>\n",
       "    .dataframe tbody tr th:only-of-type {\n",
       "        vertical-align: middle;\n",
       "    }\n",
       "\n",
       "    .dataframe tbody tr th {\n",
       "        vertical-align: top;\n",
       "    }\n",
       "\n",
       "    .dataframe thead th {\n",
       "        text-align: right;\n",
       "    }\n",
       "</style>\n",
       "<table border=\"1\" class=\"dataframe\">\n",
       "  <thead>\n",
       "    <tr style=\"text-align: right;\">\n",
       "      <th></th>\n",
       "      <th>url</th>\n",
       "      <th>title</th>\n",
       "      <th>text</th>\n",
       "      <th>topic</th>\n",
       "    </tr>\n",
       "  </thead>\n",
       "  <tbody>\n",
       "    <tr>\n",
       "      <th>0</th>\n",
       "      <td>https://culture.akipress.org/news:1822318</td>\n",
       "      <td>Комитет ЖК утвердил сумму премии МПА СНГ имени...</td>\n",
       "      <td>Комитет Жогорку Кенеша по международным делам,...</td>\n",
       "      <td>Культура</td>\n",
       "    </tr>\n",
       "    <tr>\n",
       "      <th>1</th>\n",
       "      <td>https://culture.akipress.org/news:1822314</td>\n",
       "      <td>Комитет ЖК перенес рассмотрение ратификации пр...</td>\n",
       "      <td>Комитет Жогорку Кенеша по международным делам,...</td>\n",
       "      <td>Культура</td>\n",
       "    </tr>\n",
       "    <tr>\n",
       "      <th>2</th>\n",
       "      <td>https://culture.akipress.org/news:1822131</td>\n",
       "      <td>Лучшим фильмом по климатическим изменениям на ...</td>\n",
       "      <td>17 ноября 2022 года на церемонии закрытия XVI ...</td>\n",
       "      <td>Культура</td>\n",
       "    </tr>\n",
       "    <tr>\n",
       "      <th>3</th>\n",
       "      <td>https://culture.akipress.org/news:1822063</td>\n",
       "      <td>В Русском драмтеатре пройдет показ спектакля «...</td>\n",
       "      <td>В Русском театре драмы им. Ч. Айтматова 23 ноя...</td>\n",
       "      <td>Культура</td>\n",
       "    </tr>\n",
       "    <tr>\n",
       "      <th>4</th>\n",
       "      <td>https://culture.akipress.org/news:1822050</td>\n",
       "      <td>Протекает крыша библиотеки Араванского района,...</td>\n",
       "      <td>Члены Комитета Жогорку Кенеша по социальной по...</td>\n",
       "      <td>Культура</td>\n",
       "    </tr>\n",
       "    <tr>\n",
       "      <th>...</th>\n",
       "      <td>...</td>\n",
       "      <td>...</td>\n",
       "      <td>...</td>\n",
       "      <td>...</td>\n",
       "    </tr>\n",
       "    <tr>\n",
       "      <th>179</th>\n",
       "      <td>https://sport.akipress.org/news:1822011/?from=...</td>\n",
       "      <td>В селе Комсомольском в Сокулукском районе пост...</td>\n",
       "      <td>Фрунзенский айыл окмоту Сокулукского района Чу...</td>\n",
       "      <td>Спорт</td>\n",
       "    </tr>\n",
       "    <tr>\n",
       "      <th>180</th>\n",
       "      <td>https://sport.akipress.org/news:1822006/?from=...</td>\n",
       "      <td>Уроженец Кыргызстана завоевал золото на междун...</td>\n",
       "      <td>Уроженец Кыргызстана Феликс Айдаркеев завоевал...</td>\n",
       "      <td>Спорт</td>\n",
       "    </tr>\n",
       "    <tr>\n",
       "      <th>181</th>\n",
       "      <td>https://sport.akipress.org/news:1821822/?from=...</td>\n",
       "      <td>ЧМ-2022: Эквадор обыграл Катар</td>\n",
       "      <td>Сборная Эквадора по футболу с победы стартовал...</td>\n",
       "      <td>Спорт</td>\n",
       "    </tr>\n",
       "    <tr>\n",
       "      <th>182</th>\n",
       "      <td>https://sport.akipress.org/news:1821706/?from=...</td>\n",
       "      <td>Сегодня в Катаре стартует ЧМ по футболу. Распи...</td>\n",
       "      <td>Чемпионат мира по футболу-2022 пройдет в Катар...</td>\n",
       "      <td>Спорт</td>\n",
       "    </tr>\n",
       "    <tr>\n",
       "      <th>183</th>\n",
       "      <td>https://sport.akipress.org/news:1821671/?from=...</td>\n",
       "      <td>Два кыргызстанских борца в финале турнира в СШ...</td>\n",
       "      <td>Два борца из Кыргызстана вышли в финал междуна...</td>\n",
       "      <td>Спорт</td>\n",
       "    </tr>\n",
       "  </tbody>\n",
       "</table>\n",
       "<p>184 rows × 4 columns</p>\n",
       "</div>"
      ],
      "text/plain": [
       "                                                   url  \\\n",
       "0            https://culture.akipress.org/news:1822318   \n",
       "1            https://culture.akipress.org/news:1822314   \n",
       "2            https://culture.akipress.org/news:1822131   \n",
       "3            https://culture.akipress.org/news:1822063   \n",
       "4            https://culture.akipress.org/news:1822050   \n",
       "..                                                 ...   \n",
       "179  https://sport.akipress.org/news:1822011/?from=...   \n",
       "180  https://sport.akipress.org/news:1822006/?from=...   \n",
       "181  https://sport.akipress.org/news:1821822/?from=...   \n",
       "182  https://sport.akipress.org/news:1821706/?from=...   \n",
       "183  https://sport.akipress.org/news:1821671/?from=...   \n",
       "\n",
       "                                                 title  \\\n",
       "0    Комитет ЖК утвердил сумму премии МПА СНГ имени...   \n",
       "1    Комитет ЖК перенес рассмотрение ратификации пр...   \n",
       "2    Лучшим фильмом по климатическим изменениям на ...   \n",
       "3    В Русском драмтеатре пройдет показ спектакля «...   \n",
       "4    Протекает крыша библиотеки Араванского района,...   \n",
       "..                                                 ...   \n",
       "179  В селе Комсомольском в Сокулукском районе пост...   \n",
       "180  Уроженец Кыргызстана завоевал золото на междун...   \n",
       "181                     ЧМ-2022: Эквадор обыграл Катар   \n",
       "182  Сегодня в Катаре стартует ЧМ по футболу. Распи...   \n",
       "183  Два кыргызстанских борца в финале турнира в СШ...   \n",
       "\n",
       "                                                  text     topic  \n",
       "0    Комитет Жогорку Кенеша по международным делам,...  Культура  \n",
       "1    Комитет Жогорку Кенеша по международным делам,...  Культура  \n",
       "2    17 ноября 2022 года на церемонии закрытия XVI ...  Культура  \n",
       "3    В Русском театре драмы им. Ч. Айтматова 23 ноя...  Культура  \n",
       "4    Члены Комитета Жогорку Кенеша по социальной по...  Культура  \n",
       "..                                                 ...       ...  \n",
       "179  Фрунзенский айыл окмоту Сокулукского района Чу...     Спорт  \n",
       "180  Уроженец Кыргызстана Феликс Айдаркеев завоевал...     Спорт  \n",
       "181  Сборная Эквадора по футболу с победы стартовал...     Спорт  \n",
       "182  Чемпионат мира по футболу-2022 пройдет в Катар...     Спорт  \n",
       "183  Два борца из Кыргызстана вышли в финал междуна...     Спорт  \n",
       "\n",
       "[184 rows x 4 columns]"
      ]
     },
     "execution_count": 54,
     "metadata": {},
     "output_type": "execute_result"
    }
   ],
   "source": [
    "df_res"
   ]
  },
  {
   "cell_type": "markdown",
   "id": "9d40ae84",
   "metadata": {},
   "source": [
    "## "
   ]
  },
  {
   "cell_type": "markdown",
   "id": "ede4f83b",
   "metadata": {},
   "source": [
    "## Text preprocessing"
   ]
  },
  {
   "cell_type": "code",
   "execution_count": 154,
   "id": "7a2cb7df",
   "metadata": {},
   "outputs": [],
   "source": [
    "import string\n",
    "def remove_punctuation(text):\n",
    "    return \"\".join([ch if ch not in string.punctuation else ' ' for ch in text])\n",
    "\n",
    "def remove_numbers(text):\n",
    "    return ''.join([i if not i.isdigit() else ' ' for i in text])\n",
    "\n",
    "import re\n",
    "def remove_multiple_spaces(text):\n",
    "\treturn re.sub(r'\\s+', ' ', text, flags=re.I)\n",
    "\n",
    "from nltk.stem import *\n",
    "from nltk.corpus import stopwords\n",
    "from pymystem3 import Mystem\n",
    "from string import punctuation\n",
    "mystem = Mystem() \n",
    "\n",
    "russian_stopwords = stopwords.words(\"russian\")\n",
    "russian_stopwords.extend(['…', '«', '»', '...'])\n",
    "def remove_stop_words(text):\n",
    "    tokens = mystem.lemmatize(text.lower())\n",
    "    tokens = [token for token in tokens if token not in russian_stopwords and token != \" \"]\n",
    "    text = \" \".join(tokens)\n",
    "    return text"
   ]
  },
  {
   "cell_type": "code",
   "execution_count": 155,
   "id": "bf073bdb",
   "metadata": {},
   "outputs": [
    {
     "name": "stderr",
     "output_type": "stream",
     "text": [
      "100%|██████████| 184/184 [00:00<00:00, 1504.42it/s]\n"
     ]
    }
   ],
   "source": [
    "prep_text = [remove_multiple_spaces(remove_numbers(remove_punctuation(text.lower()))) for text in tqdm(df_res['text']) ]"
   ]
  },
  {
   "cell_type": "code",
   "execution_count": 156,
   "id": "848850f2",
   "metadata": {},
   "outputs": [
    {
     "data": {
      "text/plain": [
       "'комитет жогорку кенеша по международным делам обороне безопасности и миграции утвердил сумму премии мпа снг имени чынгыза айтматова в млн сомов ранее размер премии составлял тыс долларов потом — тыс долларов последние годы составляет млн сомов первая премия мпа снг имени ч айтматова была присуждена в году '"
      ]
     },
     "execution_count": 156,
     "metadata": {},
     "output_type": "execute_result"
    }
   ],
   "source": [
    "prep_text[0]"
   ]
  },
  {
   "cell_type": "code",
   "execution_count": 157,
   "id": "dd6721eb",
   "metadata": {},
   "outputs": [
    {
     "data": {
      "text/html": [
       "<div>\n",
       "<style scoped>\n",
       "    .dataframe tbody tr th:only-of-type {\n",
       "        vertical-align: middle;\n",
       "    }\n",
       "\n",
       "    .dataframe tbody tr th {\n",
       "        vertical-align: top;\n",
       "    }\n",
       "\n",
       "    .dataframe thead th {\n",
       "        text-align: right;\n",
       "    }\n",
       "</style>\n",
       "<table border=\"1\" class=\"dataframe\">\n",
       "  <thead>\n",
       "    <tr style=\"text-align: right;\">\n",
       "      <th></th>\n",
       "      <th>url</th>\n",
       "      <th>title</th>\n",
       "      <th>text</th>\n",
       "      <th>topic</th>\n",
       "      <th>text_prep</th>\n",
       "      <th>text_stem</th>\n",
       "      <th>text_sw</th>\n",
       "      <th>text_lemm</th>\n",
       "    </tr>\n",
       "  </thead>\n",
       "  <tbody>\n",
       "    <tr>\n",
       "      <th>0</th>\n",
       "      <td>https://culture.akipress.org/news:1822318</td>\n",
       "      <td>Комитет ЖК утвердил сумму премии МПА СНГ имени...</td>\n",
       "      <td>Комитет Жогорку Кенеша по международным делам,...</td>\n",
       "      <td>Культура</td>\n",
       "      <td>комитет жогорку кенеша по международным делам ...</td>\n",
       "      <td>комитет жогорк кенеш международн дел оборон бе...</td>\n",
       "      <td>комитет жогорку кенеша международным делам обо...</td>\n",
       "      <td>комитет жогорка кенеш международный дело оборо...</td>\n",
       "    </tr>\n",
       "    <tr>\n",
       "      <th>1</th>\n",
       "      <td>https://culture.akipress.org/news:1822314</td>\n",
       "      <td>Комитет ЖК перенес рассмотрение ратификации пр...</td>\n",
       "      <td>Комитет Жогорку Кенеша по международным делам,...</td>\n",
       "      <td>Культура</td>\n",
       "      <td>комитет жогорку кенеша по международным делам ...</td>\n",
       "      <td>комитет жогорк кенеш международн дел оборон бе...</td>\n",
       "      <td>комитет жогорку кенеша международным делам обо...</td>\n",
       "      <td>комитет жогорка кенеш международный дело оборо...</td>\n",
       "    </tr>\n",
       "    <tr>\n",
       "      <th>2</th>\n",
       "      <td>https://culture.akipress.org/news:1822131</td>\n",
       "      <td>Лучшим фильмом по климатическим изменениям на ...</td>\n",
       "      <td>17 ноября 2022 года на церемонии закрытия XVI ...</td>\n",
       "      <td>Культура</td>\n",
       "      <td>ноября года на церемонии закрытия xvi междуна...</td>\n",
       "      <td>ноябр год церемон закрыт xvi международн фести...</td>\n",
       "      <td>ноября года церемонии закрытия xvi международн...</td>\n",
       "      <td>ноябрь год церемония закрытие xvi международны...</td>\n",
       "    </tr>\n",
       "    <tr>\n",
       "      <th>3</th>\n",
       "      <td>https://culture.akipress.org/news:1822063</td>\n",
       "      <td>В Русском драмтеатре пройдет показ спектакля «...</td>\n",
       "      <td>В Русском театре драмы им. Ч. Айтматова 23 ноя...</td>\n",
       "      <td>Культура</td>\n",
       "      <td>в русском театре драмы им ч айтматова ноября п...</td>\n",
       "      <td>русск театр драм ч айтматов ноябр пройдет благ...</td>\n",
       "      <td>русском театре драмы ч айтматова ноября пройде...</td>\n",
       "      <td>русский театр драма ч айтматов ноябрь пройти б...</td>\n",
       "    </tr>\n",
       "    <tr>\n",
       "      <th>4</th>\n",
       "      <td>https://culture.akipress.org/news:1822050</td>\n",
       "      <td>Протекает крыша библиотеки Араванского района,...</td>\n",
       "      <td>Члены Комитета Жогорку Кенеша по социальной по...</td>\n",
       "      <td>Культура</td>\n",
       "      <td>члены комитета жогорку кенеша по социальной по...</td>\n",
       "      <td>член комитет жогорк кенеш социальн политик ноя...</td>\n",
       "      <td>члены комитета жогорку кенеша социальной полит...</td>\n",
       "      <td>член комитет жогорка кенеш социальный политика...</td>\n",
       "    </tr>\n",
       "    <tr>\n",
       "      <th>...</th>\n",
       "      <td>...</td>\n",
       "      <td>...</td>\n",
       "      <td>...</td>\n",
       "      <td>...</td>\n",
       "      <td>...</td>\n",
       "      <td>...</td>\n",
       "      <td>...</td>\n",
       "      <td>...</td>\n",
       "    </tr>\n",
       "    <tr>\n",
       "      <th>179</th>\n",
       "      <td>https://sport.akipress.org/news:1822011/?from=...</td>\n",
       "      <td>В селе Комсомольском в Сокулукском районе пост...</td>\n",
       "      <td>Фрунзенский айыл окмоту Сокулукского района Чу...</td>\n",
       "      <td>Спорт</td>\n",
       "      <td>фрунзенский айыл окмоту сокулукского района чу...</td>\n",
       "      <td>фрунзенск ай окмот сокулукск район чуйск облас...</td>\n",
       "      <td>фрунзенский айыл окмоту сокулукского района чу...</td>\n",
       "      <td>фрунзенский айыл окмоту сокулукский район чуйс...</td>\n",
       "    </tr>\n",
       "    <tr>\n",
       "      <th>180</th>\n",
       "      <td>https://sport.akipress.org/news:1822006/?from=...</td>\n",
       "      <td>Уроженец Кыргызстана завоевал золото на междун...</td>\n",
       "      <td>Уроженец Кыргызстана Феликс Айдаркеев завоевал...</td>\n",
       "      <td>Спорт</td>\n",
       "      <td>уроженец кыргызстана феликс айдаркеев завоевал...</td>\n",
       "      <td>уроженец кыргызста феликс айдарке завоева золо...</td>\n",
       "      <td>уроженец кыргызстана феликс айдаркеев завоевал...</td>\n",
       "      <td>уроженец кыргызстан феликс айдаркеев завоевыва...</td>\n",
       "    </tr>\n",
       "    <tr>\n",
       "      <th>181</th>\n",
       "      <td>https://sport.akipress.org/news:1821822/?from=...</td>\n",
       "      <td>ЧМ-2022: Эквадор обыграл Катар</td>\n",
       "      <td>Сборная Эквадора по футболу с победы стартовал...</td>\n",
       "      <td>Спорт</td>\n",
       "      <td>сборная эквадора по футболу с победы стартовал...</td>\n",
       "      <td>сборн эквадор футбол побед стартова чемпионат ...</td>\n",
       "      <td>сборная эквадора футболу победы стартовала чем...</td>\n",
       "      <td>сборная эквадор футбол победа стартовать чемпи...</td>\n",
       "    </tr>\n",
       "    <tr>\n",
       "      <th>182</th>\n",
       "      <td>https://sport.akipress.org/news:1821706/?from=...</td>\n",
       "      <td>Сегодня в Катаре стартует ЧМ по футболу. Распи...</td>\n",
       "      <td>Чемпионат мира по футболу-2022 пройдет в Катар...</td>\n",
       "      <td>Спорт</td>\n",
       "      <td>чемпионат мира по футболу пройдет в катаре с н...</td>\n",
       "      <td>чемпионат мир футбол пройдет катар ноябр декаб...</td>\n",
       "      <td>чемпионат мира футболу пройдет катаре ноября д...</td>\n",
       "      <td>чемпионат мир футбол пройти катар ноябрь декаб...</td>\n",
       "    </tr>\n",
       "    <tr>\n",
       "      <th>183</th>\n",
       "      <td>https://sport.akipress.org/news:1821671/?from=...</td>\n",
       "      <td>Два кыргызстанских борца в финале турнира в СШ...</td>\n",
       "      <td>Два борца из Кыргызстана вышли в финал междуна...</td>\n",
       "      <td>Спорт</td>\n",
       "      <td>два борца из кыргызстана вышли в финал междуна...</td>\n",
       "      <td>борц кыргызста вышл фина международн турнир гр...</td>\n",
       "      <td>борца кыргызстана вышли финал международного т...</td>\n",
       "      <td>борец кыргызстан выходить финал международный ...</td>\n",
       "    </tr>\n",
       "  </tbody>\n",
       "</table>\n",
       "<p>184 rows × 8 columns</p>\n",
       "</div>"
      ],
      "text/plain": [
       "                                                   url  \\\n",
       "0            https://culture.akipress.org/news:1822318   \n",
       "1            https://culture.akipress.org/news:1822314   \n",
       "2            https://culture.akipress.org/news:1822131   \n",
       "3            https://culture.akipress.org/news:1822063   \n",
       "4            https://culture.akipress.org/news:1822050   \n",
       "..                                                 ...   \n",
       "179  https://sport.akipress.org/news:1822011/?from=...   \n",
       "180  https://sport.akipress.org/news:1822006/?from=...   \n",
       "181  https://sport.akipress.org/news:1821822/?from=...   \n",
       "182  https://sport.akipress.org/news:1821706/?from=...   \n",
       "183  https://sport.akipress.org/news:1821671/?from=...   \n",
       "\n",
       "                                                 title  \\\n",
       "0    Комитет ЖК утвердил сумму премии МПА СНГ имени...   \n",
       "1    Комитет ЖК перенес рассмотрение ратификации пр...   \n",
       "2    Лучшим фильмом по климатическим изменениям на ...   \n",
       "3    В Русском драмтеатре пройдет показ спектакля «...   \n",
       "4    Протекает крыша библиотеки Араванского района,...   \n",
       "..                                                 ...   \n",
       "179  В селе Комсомольском в Сокулукском районе пост...   \n",
       "180  Уроженец Кыргызстана завоевал золото на междун...   \n",
       "181                     ЧМ-2022: Эквадор обыграл Катар   \n",
       "182  Сегодня в Катаре стартует ЧМ по футболу. Распи...   \n",
       "183  Два кыргызстанских борца в финале турнира в СШ...   \n",
       "\n",
       "                                                  text     topic  \\\n",
       "0    Комитет Жогорку Кенеша по международным делам,...  Культура   \n",
       "1    Комитет Жогорку Кенеша по международным делам,...  Культура   \n",
       "2    17 ноября 2022 года на церемонии закрытия XVI ...  Культура   \n",
       "3    В Русском театре драмы им. Ч. Айтматова 23 ноя...  Культура   \n",
       "4    Члены Комитета Жогорку Кенеша по социальной по...  Культура   \n",
       "..                                                 ...       ...   \n",
       "179  Фрунзенский айыл окмоту Сокулукского района Чу...     Спорт   \n",
       "180  Уроженец Кыргызстана Феликс Айдаркеев завоевал...     Спорт   \n",
       "181  Сборная Эквадора по футболу с победы стартовал...     Спорт   \n",
       "182  Чемпионат мира по футболу-2022 пройдет в Катар...     Спорт   \n",
       "183  Два борца из Кыргызстана вышли в финал междуна...     Спорт   \n",
       "\n",
       "                                             text_prep  \\\n",
       "0    комитет жогорку кенеша по международным делам ...   \n",
       "1    комитет жогорку кенеша по международным делам ...   \n",
       "2     ноября года на церемонии закрытия xvi междуна...   \n",
       "3    в русском театре драмы им ч айтматова ноября п...   \n",
       "4    члены комитета жогорку кенеша по социальной по...   \n",
       "..                                                 ...   \n",
       "179  фрунзенский айыл окмоту сокулукского района чу...   \n",
       "180  уроженец кыргызстана феликс айдаркеев завоевал...   \n",
       "181  сборная эквадора по футболу с победы стартовал...   \n",
       "182  чемпионат мира по футболу пройдет в катаре с н...   \n",
       "183  два борца из кыргызстана вышли в финал междуна...   \n",
       "\n",
       "                                             text_stem  \\\n",
       "0    комитет жогорк кенеш международн дел оборон бе...   \n",
       "1    комитет жогорк кенеш международн дел оборон бе...   \n",
       "2    ноябр год церемон закрыт xvi международн фести...   \n",
       "3    русск театр драм ч айтматов ноябр пройдет благ...   \n",
       "4    член комитет жогорк кенеш социальн политик ноя...   \n",
       "..                                                 ...   \n",
       "179  фрунзенск ай окмот сокулукск район чуйск облас...   \n",
       "180  уроженец кыргызста феликс айдарке завоева золо...   \n",
       "181  сборн эквадор футбол побед стартова чемпионат ...   \n",
       "182  чемпионат мир футбол пройдет катар ноябр декаб...   \n",
       "183  борц кыргызста вышл фина международн турнир гр...   \n",
       "\n",
       "                                               text_sw  \\\n",
       "0    комитет жогорку кенеша международным делам обо...   \n",
       "1    комитет жогорку кенеша международным делам обо...   \n",
       "2    ноября года церемонии закрытия xvi международн...   \n",
       "3    русском театре драмы ч айтматова ноября пройде...   \n",
       "4    члены комитета жогорку кенеша социальной полит...   \n",
       "..                                                 ...   \n",
       "179  фрунзенский айыл окмоту сокулукского района чу...   \n",
       "180  уроженец кыргызстана феликс айдаркеев завоевал...   \n",
       "181  сборная эквадора футболу победы стартовала чем...   \n",
       "182  чемпионат мира футболу пройдет катаре ноября д...   \n",
       "183  борца кыргызстана вышли финал международного т...   \n",
       "\n",
       "                                             text_lemm  \n",
       "0    комитет жогорка кенеш международный дело оборо...  \n",
       "1    комитет жогорка кенеш международный дело оборо...  \n",
       "2    ноябрь год церемония закрытие xvi международны...  \n",
       "3    русский театр драма ч айтматов ноябрь пройти б...  \n",
       "4    член комитет жогорка кенеш социальный политика...  \n",
       "..                                                 ...  \n",
       "179  фрунзенский айыл окмоту сокулукский район чуйс...  \n",
       "180  уроженец кыргызстан феликс айдаркеев завоевыва...  \n",
       "181  сборная эквадор футбол победа стартовать чемпи...  \n",
       "182  чемпионат мир футбол пройти катар ноябрь декаб...  \n",
       "183  борец кыргызстан выходить финал международный ...  \n",
       "\n",
       "[184 rows x 8 columns]"
      ]
     },
     "execution_count": 157,
     "metadata": {},
     "output_type": "execute_result"
    }
   ],
   "source": [
    "df_res['text_prep'] = prep_text\n",
    "df_res"
   ]
  },
  {
   "cell_type": "markdown",
   "id": "a3f951ac",
   "metadata": {},
   "source": [
    "## "
   ]
  },
  {
   "cell_type": "markdown",
   "id": "36edf7fe",
   "metadata": {},
   "source": [
    "## Stemming"
   ]
  },
  {
   "cell_type": "code",
   "execution_count": 158,
   "id": "444b159c",
   "metadata": {},
   "outputs": [],
   "source": [
    "from nltk.stem.snowball import SnowballStemmer \n",
    "stemmer = SnowballStemmer(\"russian\")"
   ]
  },
  {
   "cell_type": "code",
   "execution_count": 159,
   "id": "152d23d4",
   "metadata": {},
   "outputs": [],
   "source": [
    "russian_stopwords = stopwords.words(\"russian\")\n",
    "russian_stopwords.extend(['…', '«', '»', '...', 'т.д.', 'т', 'д'])"
   ]
  },
  {
   "cell_type": "code",
   "execution_count": 160,
   "id": "7facf777",
   "metadata": {},
   "outputs": [
    {
     "name": "stderr",
     "output_type": "stream",
     "text": [
      "100%|██████████| 184/184 [00:01<00:00, 96.86it/s] \n"
     ]
    }
   ],
   "source": [
    "from nltk import word_tokenize\n",
    "\n",
    "stemmed_texts_list = []\n",
    "for text in tqdm(df_res['text_prep']):\n",
    "    tokens = word_tokenize(text)    \n",
    "    stemmed_tokens = [stemmer.stem(token) for token in tokens if token not in russian_stopwords]\n",
    "    text = \" \".join(stemmed_tokens)\n",
    "    stemmed_texts_list.append(text)\n",
    "\n",
    "df_res['text_stem'] = stemmed_texts_list"
   ]
  },
  {
   "cell_type": "code",
   "execution_count": 161,
   "id": "42dcf37d",
   "metadata": {},
   "outputs": [
    {
     "name": "stdout",
     "output_type": "stream",
     "text": [
      "комитет жогорк кенеш международн дел оборон безопасн миграц утверд сумм прем мпа снг имен чынгыз айтматов млн сом ран размер прем составля тыс доллар — тыс доллар последн год составля млн сом перв прем мпа снг имен ч айтматов присужд год\n"
     ]
    }
   ],
   "source": [
    "print(df_res['text_stem'][0])"
   ]
  },
  {
   "cell_type": "markdown",
   "id": "6bab6b7c",
   "metadata": {},
   "source": [
    "## "
   ]
  },
  {
   "cell_type": "markdown",
   "id": "67221b9e",
   "metadata": {},
   "source": [
    "## Delete stop words"
   ]
  },
  {
   "cell_type": "code",
   "execution_count": 162,
   "id": "fd3f2f47",
   "metadata": {},
   "outputs": [
    {
     "name": "stderr",
     "output_type": "stream",
     "text": [
      "100%|██████████| 184/184 [00:00<00:00, 752.34it/s]\n"
     ]
    }
   ],
   "source": [
    "sw_texts_list = []\n",
    "unique_stops = set(stopwords.words('russian'))\n",
    "\n",
    "for text in tqdm(df_res['text_prep']):\n",
    "    tokens = word_tokenize(text)   \n",
    "    stemmed_text = \"\"\n",
    "    for word in tokens:\n",
    "        word = word.lower()\n",
    "    \n",
    "        if word not in unique_stops and word.isalpha():\n",
    "            stemmed_text+=word+\" \"\n",
    "    sw_texts_list.append(stemmed_text.strip())\n",
    "    \n",
    "df_res['text_sw'] = sw_texts_list"
   ]
  },
  {
   "cell_type": "code",
   "execution_count": 163,
   "id": "7c96fa33",
   "metadata": {},
   "outputs": [
    {
     "name": "stdout",
     "output_type": "stream",
     "text": [
      "комитет жогорку кенеша международным делам обороне безопасности миграции утвердил сумму премии мпа снг имени чынгыза айтматова млн сомов ранее размер премии составлял тыс долларов тыс долларов последние годы составляет млн сомов первая премия мпа снг имени ч айтматова присуждена году\n"
     ]
    }
   ],
   "source": [
    "print(df_res['text_sw'][0])"
   ]
  },
  {
   "cell_type": "code",
   "execution_count": 164,
   "id": "083fe686",
   "metadata": {},
   "outputs": [
    {
     "data": {
      "text/html": [
       "<div>\n",
       "<style scoped>\n",
       "    .dataframe tbody tr th:only-of-type {\n",
       "        vertical-align: middle;\n",
       "    }\n",
       "\n",
       "    .dataframe tbody tr th {\n",
       "        vertical-align: top;\n",
       "    }\n",
       "\n",
       "    .dataframe thead th {\n",
       "        text-align: right;\n",
       "    }\n",
       "</style>\n",
       "<table border=\"1\" class=\"dataframe\">\n",
       "  <thead>\n",
       "    <tr style=\"text-align: right;\">\n",
       "      <th></th>\n",
       "      <th>url</th>\n",
       "      <th>title</th>\n",
       "      <th>text</th>\n",
       "      <th>topic</th>\n",
       "      <th>text_prep</th>\n",
       "      <th>text_stem</th>\n",
       "      <th>text_sw</th>\n",
       "      <th>text_lemm</th>\n",
       "    </tr>\n",
       "  </thead>\n",
       "  <tbody>\n",
       "    <tr>\n",
       "      <th>0</th>\n",
       "      <td>https://culture.akipress.org/news:1822318</td>\n",
       "      <td>Комитет ЖК утвердил сумму премии МПА СНГ имени...</td>\n",
       "      <td>Комитет Жогорку Кенеша по международным делам,...</td>\n",
       "      <td>Культура</td>\n",
       "      <td>комитет жогорку кенеша по международным делам ...</td>\n",
       "      <td>комитет жогорк кенеш международн дел оборон бе...</td>\n",
       "      <td>комитет жогорку кенеша международным делам обо...</td>\n",
       "      <td>комитет жогорка кенеш международный дело оборо...</td>\n",
       "    </tr>\n",
       "    <tr>\n",
       "      <th>1</th>\n",
       "      <td>https://culture.akipress.org/news:1822314</td>\n",
       "      <td>Комитет ЖК перенес рассмотрение ратификации пр...</td>\n",
       "      <td>Комитет Жогорку Кенеша по международным делам,...</td>\n",
       "      <td>Культура</td>\n",
       "      <td>комитет жогорку кенеша по международным делам ...</td>\n",
       "      <td>комитет жогорк кенеш международн дел оборон бе...</td>\n",
       "      <td>комитет жогорку кенеша международным делам обо...</td>\n",
       "      <td>комитет жогорка кенеш международный дело оборо...</td>\n",
       "    </tr>\n",
       "    <tr>\n",
       "      <th>2</th>\n",
       "      <td>https://culture.akipress.org/news:1822131</td>\n",
       "      <td>Лучшим фильмом по климатическим изменениям на ...</td>\n",
       "      <td>17 ноября 2022 года на церемонии закрытия XVI ...</td>\n",
       "      <td>Культура</td>\n",
       "      <td>ноября года на церемонии закрытия xvi междуна...</td>\n",
       "      <td>ноябр год церемон закрыт xvi международн фести...</td>\n",
       "      <td>ноября года церемонии закрытия xvi международн...</td>\n",
       "      <td>ноябрь год церемония закрытие xvi международны...</td>\n",
       "    </tr>\n",
       "    <tr>\n",
       "      <th>3</th>\n",
       "      <td>https://culture.akipress.org/news:1822063</td>\n",
       "      <td>В Русском драмтеатре пройдет показ спектакля «...</td>\n",
       "      <td>В Русском театре драмы им. Ч. Айтматова 23 ноя...</td>\n",
       "      <td>Культура</td>\n",
       "      <td>в русском театре драмы им ч айтматова ноября п...</td>\n",
       "      <td>русск театр драм ч айтматов ноябр пройдет благ...</td>\n",
       "      <td>русском театре драмы ч айтматова ноября пройде...</td>\n",
       "      <td>русский театр драма ч айтматов ноябрь пройти б...</td>\n",
       "    </tr>\n",
       "    <tr>\n",
       "      <th>4</th>\n",
       "      <td>https://culture.akipress.org/news:1822050</td>\n",
       "      <td>Протекает крыша библиотеки Араванского района,...</td>\n",
       "      <td>Члены Комитета Жогорку Кенеша по социальной по...</td>\n",
       "      <td>Культура</td>\n",
       "      <td>члены комитета жогорку кенеша по социальной по...</td>\n",
       "      <td>член комитет жогорк кенеш социальн политик ноя...</td>\n",
       "      <td>члены комитета жогорку кенеша социальной полит...</td>\n",
       "      <td>член комитет жогорка кенеш социальный политика...</td>\n",
       "    </tr>\n",
       "    <tr>\n",
       "      <th>...</th>\n",
       "      <td>...</td>\n",
       "      <td>...</td>\n",
       "      <td>...</td>\n",
       "      <td>...</td>\n",
       "      <td>...</td>\n",
       "      <td>...</td>\n",
       "      <td>...</td>\n",
       "      <td>...</td>\n",
       "    </tr>\n",
       "    <tr>\n",
       "      <th>179</th>\n",
       "      <td>https://sport.akipress.org/news:1822011/?from=...</td>\n",
       "      <td>В селе Комсомольском в Сокулукском районе пост...</td>\n",
       "      <td>Фрунзенский айыл окмоту Сокулукского района Чу...</td>\n",
       "      <td>Спорт</td>\n",
       "      <td>фрунзенский айыл окмоту сокулукского района чу...</td>\n",
       "      <td>фрунзенск ай окмот сокулукск район чуйск облас...</td>\n",
       "      <td>фрунзенский айыл окмоту сокулукского района чу...</td>\n",
       "      <td>фрунзенский айыл окмоту сокулукский район чуйс...</td>\n",
       "    </tr>\n",
       "    <tr>\n",
       "      <th>180</th>\n",
       "      <td>https://sport.akipress.org/news:1822006/?from=...</td>\n",
       "      <td>Уроженец Кыргызстана завоевал золото на междун...</td>\n",
       "      <td>Уроженец Кыргызстана Феликс Айдаркеев завоевал...</td>\n",
       "      <td>Спорт</td>\n",
       "      <td>уроженец кыргызстана феликс айдаркеев завоевал...</td>\n",
       "      <td>уроженец кыргызста феликс айдарке завоева золо...</td>\n",
       "      <td>уроженец кыргызстана феликс айдаркеев завоевал...</td>\n",
       "      <td>уроженец кыргызстан феликс айдаркеев завоевыва...</td>\n",
       "    </tr>\n",
       "    <tr>\n",
       "      <th>181</th>\n",
       "      <td>https://sport.akipress.org/news:1821822/?from=...</td>\n",
       "      <td>ЧМ-2022: Эквадор обыграл Катар</td>\n",
       "      <td>Сборная Эквадора по футболу с победы стартовал...</td>\n",
       "      <td>Спорт</td>\n",
       "      <td>сборная эквадора по футболу с победы стартовал...</td>\n",
       "      <td>сборн эквадор футбол побед стартова чемпионат ...</td>\n",
       "      <td>сборная эквадора футболу победы стартовала чем...</td>\n",
       "      <td>сборная эквадор футбол победа стартовать чемпи...</td>\n",
       "    </tr>\n",
       "    <tr>\n",
       "      <th>182</th>\n",
       "      <td>https://sport.akipress.org/news:1821706/?from=...</td>\n",
       "      <td>Сегодня в Катаре стартует ЧМ по футболу. Распи...</td>\n",
       "      <td>Чемпионат мира по футболу-2022 пройдет в Катар...</td>\n",
       "      <td>Спорт</td>\n",
       "      <td>чемпионат мира по футболу пройдет в катаре с н...</td>\n",
       "      <td>чемпионат мир футбол пройдет катар ноябр декаб...</td>\n",
       "      <td>чемпионат мира футболу пройдет катаре ноября д...</td>\n",
       "      <td>чемпионат мир футбол пройти катар ноябрь декаб...</td>\n",
       "    </tr>\n",
       "    <tr>\n",
       "      <th>183</th>\n",
       "      <td>https://sport.akipress.org/news:1821671/?from=...</td>\n",
       "      <td>Два кыргызстанских борца в финале турнира в СШ...</td>\n",
       "      <td>Два борца из Кыргызстана вышли в финал междуна...</td>\n",
       "      <td>Спорт</td>\n",
       "      <td>два борца из кыргызстана вышли в финал междуна...</td>\n",
       "      <td>борц кыргызста вышл фина международн турнир гр...</td>\n",
       "      <td>борца кыргызстана вышли финал международного т...</td>\n",
       "      <td>борец кыргызстан выходить финал международный ...</td>\n",
       "    </tr>\n",
       "  </tbody>\n",
       "</table>\n",
       "<p>184 rows × 8 columns</p>\n",
       "</div>"
      ],
      "text/plain": [
       "                                                   url  \\\n",
       "0            https://culture.akipress.org/news:1822318   \n",
       "1            https://culture.akipress.org/news:1822314   \n",
       "2            https://culture.akipress.org/news:1822131   \n",
       "3            https://culture.akipress.org/news:1822063   \n",
       "4            https://culture.akipress.org/news:1822050   \n",
       "..                                                 ...   \n",
       "179  https://sport.akipress.org/news:1822011/?from=...   \n",
       "180  https://sport.akipress.org/news:1822006/?from=...   \n",
       "181  https://sport.akipress.org/news:1821822/?from=...   \n",
       "182  https://sport.akipress.org/news:1821706/?from=...   \n",
       "183  https://sport.akipress.org/news:1821671/?from=...   \n",
       "\n",
       "                                                 title  \\\n",
       "0    Комитет ЖК утвердил сумму премии МПА СНГ имени...   \n",
       "1    Комитет ЖК перенес рассмотрение ратификации пр...   \n",
       "2    Лучшим фильмом по климатическим изменениям на ...   \n",
       "3    В Русском драмтеатре пройдет показ спектакля «...   \n",
       "4    Протекает крыша библиотеки Араванского района,...   \n",
       "..                                                 ...   \n",
       "179  В селе Комсомольском в Сокулукском районе пост...   \n",
       "180  Уроженец Кыргызстана завоевал золото на междун...   \n",
       "181                     ЧМ-2022: Эквадор обыграл Катар   \n",
       "182  Сегодня в Катаре стартует ЧМ по футболу. Распи...   \n",
       "183  Два кыргызстанских борца в финале турнира в СШ...   \n",
       "\n",
       "                                                  text     topic  \\\n",
       "0    Комитет Жогорку Кенеша по международным делам,...  Культура   \n",
       "1    Комитет Жогорку Кенеша по международным делам,...  Культура   \n",
       "2    17 ноября 2022 года на церемонии закрытия XVI ...  Культура   \n",
       "3    В Русском театре драмы им. Ч. Айтматова 23 ноя...  Культура   \n",
       "4    Члены Комитета Жогорку Кенеша по социальной по...  Культура   \n",
       "..                                                 ...       ...   \n",
       "179  Фрунзенский айыл окмоту Сокулукского района Чу...     Спорт   \n",
       "180  Уроженец Кыргызстана Феликс Айдаркеев завоевал...     Спорт   \n",
       "181  Сборная Эквадора по футболу с победы стартовал...     Спорт   \n",
       "182  Чемпионат мира по футболу-2022 пройдет в Катар...     Спорт   \n",
       "183  Два борца из Кыргызстана вышли в финал междуна...     Спорт   \n",
       "\n",
       "                                             text_prep  \\\n",
       "0    комитет жогорку кенеша по международным делам ...   \n",
       "1    комитет жогорку кенеша по международным делам ...   \n",
       "2     ноября года на церемонии закрытия xvi междуна...   \n",
       "3    в русском театре драмы им ч айтматова ноября п...   \n",
       "4    члены комитета жогорку кенеша по социальной по...   \n",
       "..                                                 ...   \n",
       "179  фрунзенский айыл окмоту сокулукского района чу...   \n",
       "180  уроженец кыргызстана феликс айдаркеев завоевал...   \n",
       "181  сборная эквадора по футболу с победы стартовал...   \n",
       "182  чемпионат мира по футболу пройдет в катаре с н...   \n",
       "183  два борца из кыргызстана вышли в финал междуна...   \n",
       "\n",
       "                                             text_stem  \\\n",
       "0    комитет жогорк кенеш международн дел оборон бе...   \n",
       "1    комитет жогорк кенеш международн дел оборон бе...   \n",
       "2    ноябр год церемон закрыт xvi международн фести...   \n",
       "3    русск театр драм ч айтматов ноябр пройдет благ...   \n",
       "4    член комитет жогорк кенеш социальн политик ноя...   \n",
       "..                                                 ...   \n",
       "179  фрунзенск ай окмот сокулукск район чуйск облас...   \n",
       "180  уроженец кыргызста феликс айдарке завоева золо...   \n",
       "181  сборн эквадор футбол побед стартова чемпионат ...   \n",
       "182  чемпионат мир футбол пройдет катар ноябр декаб...   \n",
       "183  борц кыргызста вышл фина международн турнир гр...   \n",
       "\n",
       "                                               text_sw  \\\n",
       "0    комитет жогорку кенеша международным делам обо...   \n",
       "1    комитет жогорку кенеша международным делам обо...   \n",
       "2    ноября года церемонии закрытия xvi международн...   \n",
       "3    русском театре драмы ч айтматова ноября пройде...   \n",
       "4    члены комитета жогорку кенеша социальной полит...   \n",
       "..                                                 ...   \n",
       "179  фрунзенский айыл окмоту сокулукского района чу...   \n",
       "180  уроженец кыргызстана феликс айдаркеев завоевал...   \n",
       "181  сборная эквадора футболу победы стартовала чем...   \n",
       "182  чемпионат мира футболу пройдет катаре ноября д...   \n",
       "183  борца кыргызстана вышли финал международного т...   \n",
       "\n",
       "                                             text_lemm  \n",
       "0    комитет жогорка кенеш международный дело оборо...  \n",
       "1    комитет жогорка кенеш международный дело оборо...  \n",
       "2    ноябрь год церемония закрытие xvi международны...  \n",
       "3    русский театр драма ч айтматов ноябрь пройти б...  \n",
       "4    член комитет жогорка кенеш социальный политика...  \n",
       "..                                                 ...  \n",
       "179  фрунзенский айыл окмоту сокулукский район чуйс...  \n",
       "180  уроженец кыргызстан феликс айдаркеев завоевыва...  \n",
       "181  сборная эквадор футбол победа стартовать чемпи...  \n",
       "182  чемпионат мир футбол пройти катар ноябрь декаб...  \n",
       "183  борец кыргызстан выходить финал международный ...  \n",
       "\n",
       "[184 rows x 8 columns]"
      ]
     },
     "execution_count": 164,
     "metadata": {},
     "output_type": "execute_result"
    }
   ],
   "source": [
    "df_res"
   ]
  },
  {
   "cell_type": "markdown",
   "id": "6e2edb47",
   "metadata": {},
   "source": [
    "## "
   ]
  },
  {
   "cell_type": "markdown",
   "id": "a3e76ea5",
   "metadata": {},
   "source": [
    "## Lemmatization"
   ]
  },
  {
   "cell_type": "code",
   "execution_count": 165,
   "id": "4398280e",
   "metadata": {},
   "outputs": [
    {
     "name": "stderr",
     "output_type": "stream",
     "text": [
      "100%|██████████| 184/184 [03:45<00:00,  1.23s/it]\n"
     ]
    }
   ],
   "source": [
    "lemm_texts_list = []\n",
    "for text in tqdm(df_res['text_sw']):\n",
    "    #print(text)\n",
    "    try:\n",
    "        text_lem = mystem.lemmatize(text)\n",
    "        tokens = [token for token in text_lem if token != ' ' and token not in russian_stopwords]\n",
    "        text = \" \".join(tokens)\n",
    "        lemm_texts_list.append(text)\n",
    "    except Exception as e:\n",
    "        print(e)\n",
    "    \n",
    "df_res['text_lemm'] = lemm_texts_list"
   ]
  },
  {
   "cell_type": "code",
   "execution_count": 167,
   "id": "ef393bfb",
   "metadata": {},
   "outputs": [],
   "source": [
    "def lemmatize_text(text):\n",
    "    text_lem = mystem.lemmatize(text)\n",
    "    tokens = [token for token in text_lem if token != ' ']\n",
    "    return \" \".join(tokens)"
   ]
  },
  {
   "cell_type": "code",
   "execution_count": 168,
   "id": "a8cb4328",
   "metadata": {},
   "outputs": [
    {
     "data": {
      "text/plain": [
       "'комитет жогорка кенеш международный дело оборона безопасность миграция утверждать сумма премия мпа снг имя чынгыз айтматов млн сом ранее размер премия составлять тыс доллар тыс доллар последний год составлять млн сом первый премия мпа снг имя ч айтматова присуждать год \\n'"
      ]
     },
     "execution_count": 168,
     "metadata": {},
     "output_type": "execute_result"
    }
   ],
   "source": [
    "df_res['text_lemm'][0]"
   ]
  },
  {
   "cell_type": "markdown",
   "id": "811e41c5",
   "metadata": {},
   "source": [
    "## "
   ]
  },
  {
   "cell_type": "markdown",
   "id": "baec52e2",
   "metadata": {},
   "source": [
    "## Text analysis"
   ]
  },
  {
   "cell_type": "code",
   "execution_count": 169,
   "id": "61ed4315",
   "metadata": {},
   "outputs": [],
   "source": [
    "X = df_res['text_prep']\n",
    "Y = df_res['topic']"
   ]
  },
  {
   "cell_type": "code",
   "execution_count": 170,
   "id": "0151363e",
   "metadata": {},
   "outputs": [],
   "source": [
    "from sklearn.model_selection import train_test_split\n",
    "X_train, X_test, Y_train, Y_test = train_test_split(X,Y,test_size=0.5,random_state=42)"
   ]
  },
  {
   "cell_type": "markdown",
   "id": "fde4c15d",
   "metadata": {},
   "source": [
    "## Naive Bayes Classifier"
   ]
  },
  {
   "cell_type": "code",
   "execution_count": 171,
   "id": "235308bb",
   "metadata": {},
   "outputs": [],
   "source": [
    "from sklearn.naive_bayes import MultinomialNB\n",
    "from sklearn.pipeline import Pipeline\n",
    "from sklearn.feature_extraction.text import TfidfTransformer\n",
    "from sklearn.feature_extraction.text import CountVectorizer"
   ]
  },
  {
   "cell_type": "code",
   "execution_count": 172,
   "id": "defa4500",
   "metadata": {},
   "outputs": [],
   "source": [
    "nb = Pipeline([('vect', CountVectorizer()),\n",
    "               ('tfidf', TfidfTransformer()),\n",
    "               ('clf', MultinomialNB()),\n",
    "              ])"
   ]
  },
  {
   "cell_type": "code",
   "execution_count": 173,
   "id": "bc28c168",
   "metadata": {},
   "outputs": [
    {
     "data": {
      "text/plain": [
       "Pipeline(steps=[('vect', CountVectorizer()), ('tfidf', TfidfTransformer()),\n",
       "                ('clf', MultinomialNB())])"
      ]
     },
     "execution_count": 173,
     "metadata": {},
     "output_type": "execute_result"
    }
   ],
   "source": [
    "nb.fit(X_train, Y_train)"
   ]
  },
  {
   "cell_type": "code",
   "execution_count": 174,
   "id": "b9be4d47",
   "metadata": {},
   "outputs": [],
   "source": [
    "from sklearn.metrics import classification_report\n",
    "Y_pred = nb.predict(X_test)"
   ]
  },
  {
   "cell_type": "code",
   "execution_count": 175,
   "id": "f7214664",
   "metadata": {},
   "outputs": [
    {
     "data": {
      "text/plain": [
       "'Спорт'"
      ]
     },
     "execution_count": 175,
     "metadata": {},
     "output_type": "execute_result"
    }
   ],
   "source": [
    "Y_pred[2]"
   ]
  },
  {
   "cell_type": "code",
   "execution_count": 176,
   "id": "34bbba73",
   "metadata": {},
   "outputs": [
    {
     "name": "stdout",
     "output_type": "stream",
     "text": [
      "(92, 92) (92,)\n"
     ]
    }
   ],
   "source": [
    "print(X_test.shape + Y_pred.shape, Y_test.shape)"
   ]
  },
  {
   "cell_type": "code",
   "execution_count": 177,
   "id": "2d32f99a",
   "metadata": {},
   "outputs": [
    {
     "name": "stdout",
     "output_type": "stream",
     "text": [
      "Text: am telling you в версии дженнифер хадсон песня звучит в мюзикле «девушки мечты» премьера которого состоялась в году за роль в одноименном фильме хадсон получила «оскар» bafta и «золотой глобус» песня вошла в дебютный альбом хадсон jennifer hudson года наставником к примбердиева является российский певец дима билан полуфинал конкурса состоялся декабря «кайрат ты удивляешь бесконечно постоянно то что ты сделал сейчас это энциклопедически я в шоке от того как ты это сделал» сказал своему ученику д билан наставник дал кайрату своего балла также по итогам зрительского голосования к примбердиев получил больше голосов чем его соперник олег кондраков «я очень надеялся на максимальный балл от наставника но я знал что олег меня опередит по зрительским голосованиям я был готов и к финалу и к вылету я даже подготовил прощальную речь хочу сказать огромное спасибо всем кто голосовал и наставнику песня которую мне дал дима билан открыла для меня целый мир» сказал к примбердиев после выступления \n",
      "\n",
      "Actual Topic:   \tКультура\n",
      "Predicted Topic:\tАналитика\n"
     ]
    }
   ],
   "source": [
    "num = 65\n",
    "print(\"Text: \" + X_test[num])\n",
    "print()\n",
    "print(\"Actual Topic:   \\t\" + Y_test[num])\n",
    "print(\"Predicted Topic:\\t\" + Y_pred[num])"
   ]
  },
  {
   "cell_type": "code",
   "execution_count": 178,
   "id": "0378e246",
   "metadata": {},
   "outputs": [
    {
     "name": "stdout",
     "output_type": "stream",
     "text": [
      "accuracy 0.8804347826086957\n",
      "              precision    recall  f1-score   support\n",
      "\n",
      "    Культура       0.87      0.92      0.89        37\n",
      "   Аналитика       0.87      0.93      0.90        42\n",
      "       Спорт       1.00      0.62      0.76        13\n",
      "\n",
      "    accuracy                           0.88        92\n",
      "   macro avg       0.91      0.82      0.85        92\n",
      "weighted avg       0.89      0.88      0.88        92\n",
      "\n"
     ]
    }
   ],
   "source": [
    "from sklearn.metrics import accuracy_score\n",
    "\n",
    "print('accuracy %s' % accuracy_score(Y_pred, Y_test))\n",
    "print(classification_report(Y_test, Y_pred, target_names=topics))"
   ]
  },
  {
   "cell_type": "markdown",
   "id": "58aa95c9",
   "metadata": {},
   "source": [
    "## "
   ]
  },
  {
   "cell_type": "markdown",
   "id": "8c44b4c6",
   "metadata": {},
   "source": [
    "## Linear Support Vector Machine"
   ]
  },
  {
   "cell_type": "code",
   "execution_count": 179,
   "id": "9f74e532",
   "metadata": {},
   "outputs": [],
   "source": [
    "from sklearn.linear_model import SGDClassifier\n",
    "\n",
    "sgd = Pipeline([('vect', CountVectorizer()),\n",
    "                ('tfidf', TfidfTransformer()),\n",
    "                ('clf', SGDClassifier(loss='hinge', penalty='l2',alpha=1e-3, random_state=42, max_iter=5, tol=None)),\n",
    "               ])"
   ]
  },
  {
   "cell_type": "code",
   "execution_count": 180,
   "id": "8f17c2df",
   "metadata": {},
   "outputs": [
    {
     "data": {
      "text/plain": [
       "Pipeline(steps=[('vect', CountVectorizer()), ('tfidf', TfidfTransformer()),\n",
       "                ('clf',\n",
       "                 SGDClassifier(alpha=0.001, max_iter=5, random_state=42,\n",
       "                               tol=None))])"
      ]
     },
     "execution_count": 180,
     "metadata": {},
     "output_type": "execute_result"
    }
   ],
   "source": [
    "sgd.fit(X_train, Y_train)"
   ]
  },
  {
   "cell_type": "code",
   "execution_count": 181,
   "id": "954a1f39",
   "metadata": {},
   "outputs": [],
   "source": [
    "Y_sgd_pred = sgd.predict(X_test)"
   ]
  },
  {
   "cell_type": "code",
   "execution_count": 182,
   "id": "06397501",
   "metadata": {},
   "outputs": [
    {
     "name": "stdout",
     "output_type": "stream",
     "text": [
      "Text: назарбаев бактияр орозбекович назначен начальником узгенского районного отдела образования информацию turmush подтвердил он сам соответствующий приказ был подписан мая года назарбаев родился сентября года по профессии является учителем музыки \n",
      "\n",
      "Actual Topic:   \tКультура\n",
      "Predicted Topic:\tАналитика\n"
     ]
    }
   ],
   "source": [
    "print(\"Text: \" + X_test[22])\n",
    "print()\n",
    "print(\"Actual Topic:   \\t\" + Y_test[22])\n",
    "print(\"Predicted Topic:\\t\" + Y_sgd_pred[22])"
   ]
  },
  {
   "cell_type": "code",
   "execution_count": 183,
   "id": "df887b5a",
   "metadata": {},
   "outputs": [
    {
     "name": "stdout",
     "output_type": "stream",
     "text": [
      "accuracy 0.9239130434782609\n",
      "              precision    recall  f1-score   support\n",
      "\n",
      "    Культура       0.89      0.92      0.91        37\n",
      "   Аналитика       0.93      0.90      0.92        42\n",
      "       Спорт       1.00      1.00      1.00        13\n",
      "\n",
      "    accuracy                           0.92        92\n",
      "   macro avg       0.94      0.94      0.94        92\n",
      "weighted avg       0.92      0.92      0.92        92\n",
      "\n"
     ]
    }
   ],
   "source": [
    "print('accuracy %s' % accuracy_score(Y_sgd_pred, Y_test))\n",
    "print(classification_report(Y_test, Y_sgd_pred,target_names=topics))"
   ]
  },
  {
   "cell_type": "markdown",
   "id": "061b4a2a",
   "metadata": {},
   "source": [
    "## "
   ]
  },
  {
   "cell_type": "markdown",
   "id": "b536fc39",
   "metadata": {},
   "source": [
    "## Logistic Regression"
   ]
  },
  {
   "cell_type": "code",
   "execution_count": 184,
   "id": "8fae6d82",
   "metadata": {},
   "outputs": [],
   "source": [
    "from sklearn.linear_model import LogisticRegression\n",
    "\n",
    "logreg = Pipeline([('vect', CountVectorizer()),\n",
    "                ('tfidf', TfidfTransformer()),\n",
    "                ('clf', LogisticRegression(n_jobs=1, C=1e5)),\n",
    "               ])"
   ]
  },
  {
   "cell_type": "code",
   "execution_count": 185,
   "id": "067a421b",
   "metadata": {},
   "outputs": [
    {
     "data": {
      "text/plain": [
       "Pipeline(steps=[('vect', CountVectorizer()), ('tfidf', TfidfTransformer()),\n",
       "                ('clf', LogisticRegression(C=100000.0, n_jobs=1))])"
      ]
     },
     "execution_count": 185,
     "metadata": {},
     "output_type": "execute_result"
    }
   ],
   "source": [
    "logreg.fit(X_train, Y_train)"
   ]
  },
  {
   "cell_type": "code",
   "execution_count": 186,
   "id": "3643a143",
   "metadata": {},
   "outputs": [],
   "source": [
    "Y_logreg_pred = logreg.predict(X_test)"
   ]
  },
  {
   "cell_type": "code",
   "execution_count": 187,
   "id": "1b9089de",
   "metadata": {},
   "outputs": [
    {
     "name": "stdout",
     "output_type": "stream",
     "text": [
      "accuracy 0.9239130434782609\n",
      "              precision    recall  f1-score   support\n",
      "\n",
      "    Культура       0.90      0.95      0.92        37\n",
      "   Аналитика       0.93      0.90      0.92        42\n",
      "       Спорт       1.00      0.92      0.96        13\n",
      "\n",
      "    accuracy                           0.92        92\n",
      "   macro avg       0.94      0.92      0.93        92\n",
      "weighted avg       0.93      0.92      0.92        92\n",
      "\n"
     ]
    }
   ],
   "source": [
    "print('accuracy %s' % accuracy_score(Y_logreg_pred, Y_test))\n",
    "print(classification_report(Y_test, Y_logreg_pred,target_names=topics))"
   ]
  },
  {
   "cell_type": "code",
   "execution_count": 188,
   "id": "82b5d51c",
   "metadata": {},
   "outputs": [
    {
     "name": "stdout",
     "output_type": "stream",
     "text": [
      "Text: назарбаев бактияр орозбекович назначен начальником узгенского районного отдела образования информацию turmush подтвердил он сам соответствующий приказ был подписан мая года назарбаев родился сентября года по профессии является учителем музыки \n",
      "\n",
      "Actual Topic:   \tКультура\n",
      "Predicted Topic:\tАналитика\n"
     ]
    }
   ],
   "source": [
    "print(\"Text: \" + X_test[22])\n",
    "print()\n",
    "print(\"Actual Topic:   \\t\" + Y_test[22])\n",
    "print(\"Predicted Topic:\\t\" + Y_logreg_pred[22])"
   ]
  },
  {
   "cell_type": "markdown",
   "id": "ad09002b",
   "metadata": {},
   "source": [
    "## "
   ]
  },
  {
   "cell_type": "markdown",
   "id": "953b54cb",
   "metadata": {},
   "source": [
    "## Examples"
   ]
  },
  {
   "cell_type": "code",
   "execution_count": 201,
   "id": "7ba4695e",
   "metadata": {},
   "outputs": [],
   "source": [
    "culture_text = \"Состоялся юбилейный вечер, посвященный 90-летию народного артиста Кыргызской Республики, известного киноактера Орозбека Кутманалиева. Об этом сообщили в Минкультуры. Мероприятие прошло 1 декабря в концертном зале КТРК. В нем приняли участие министр культуры, информации, спорта и молодежной политики Алтынбек Максутов, директор КТРК Кайрат Иманалиев, современники Орозбека Кутманалиева, ряд культурных деятелей. Торжественный вечер, посвященный 90-летию Орозбека Кутманалиева, начался со специального пролога, рассказывающего о творческом пути великого таланта, и продолжился концертной программой. В указанный вечер Орозбеку Кутманалиеву, который запомнился всему народу своими неповторимыми яркими образами на арене кыргызского кино, было подробно рассказано о его жизненном пути, посвященном искусству, и подробно раскрыт его творческий образ. Орозбек Кутманалиев родился 10 мая 1932 года в селе Шалта Сокулукского района Чуйской области. Трудовую деятельность начал в 1955 году, работая художником в Республиканском театре кукол. С 1965 года — солист Кыргызской государственной филармонии имени Т.Сатылганова, с 1969 года — режиссер-диктор Кыргызского телевидения и радиовещания, с 1974 года — режиссер дубляжа киностудии «Кыргызфильм». На кинопоприще он вышел, сыграв в фильме Юрия Борецкого «Ак куулар конгон айдың көл». Затем последовали «Белый корабль», «Фудзиямадагы кадыр түн», «Волчья темница», «Ранние журавли», «Среди людей» Болота Шамшиева, «Потомок белого барса», «Алтын күз» Толомуша Океева, «Акмөөр» Мелиса Убукеева, «Махабат дастаны», «Түркүн тагдырлар» Дооронбека Садырбаева, «Өрүкзардагы баян» Кадыржана Кыдыралиева, «Жаңылуу» Геннадия Базарова.\""
   ]
  },
  {
   "cell_type": "code",
   "execution_count": 202,
   "id": "ba6f23e6",
   "metadata": {},
   "outputs": [],
   "source": [
    "culture_text = remove_multiple_spaces(remove_numbers(remove_punctuation(culture_text.lower())))\n",
    "culture_text = remove_stop_words(culture_text)\n",
    "culture_text = lemmatize_text(culture_text)"
   ]
  },
  {
   "cell_type": "code",
   "execution_count": 203,
   "id": "1d655d52",
   "metadata": {},
   "outputs": [
    {
     "data": {
      "text/plain": [
       "'состояться юбилейный вечер посвящать летие народный артист кыргызский республика известный киноактер орозбек кутманалий это сообщать минкультуры мероприятие проходить декабрь концертный зал ктрк принимать участие министр культура информация спорт молодежный политика алтынбек максутов директор ктрк кайрат иманалий современник орозбек кутманалий ряд культурный деятель торжественный вечер посвящать летие орозбек кутманалий начинаться специальный пролог рассказывать творческий путь великий талант продолжаться концертный программа указанный вечер орозбек кутманалий который запоминаться народ свой неповторимый яркий образ арена кыргызский кино подробно рассказывать жизненный путь посвящать искусство подробно раскрывать творческий образ орозбек кутманалий рождаться май год село шалта сокулукский район чуйский область трудовой деятельность начинать год работать художник республиканский театр кукла год   —   солист кыргызский государственный филармония имя сатылган год   —   режиссер диктор кыргызский телевидение радиовещание год   —   режиссер дубляж киностудия   «  кыргызфильм  »   кинопоприще выходить сыграть фильм юрий борецкий   «  ак куулар конгон айдың көл  »   затем последовать   «  белый корабль  » «  фудзиямадагы кадыр түн  » «  волчий темница  » «  ранний журавль  » «  среди человек  »   болото шамшиев   «  потомок белый барс  » «  алтын күз  »   толомуш океева   «  акмөөр  »   мелис убукей   «  махабат дастан  » «  түркүн тагдырлар  »   дооронбек садырбаева   «  өрүкзардагы баян  »   кадыржан кыдыралиев   «  жаңылуу  »   геннадий базаров   \\n'"
      ]
     },
     "execution_count": 203,
     "metadata": {},
     "output_type": "execute_result"
    }
   ],
   "source": [
    "culture_text"
   ]
  },
  {
   "cell_type": "code",
   "execution_count": 204,
   "id": "54d58b80",
   "metadata": {},
   "outputs": [
    {
     "data": {
      "text/plain": [
       "array(['Культура'], dtype=object)"
      ]
     },
     "execution_count": 204,
     "metadata": {},
     "output_type": "execute_result"
    }
   ],
   "source": [
    "culture_pred = logreg.predict([culture_text])\n",
    "culture_pred"
   ]
  },
  {
   "cell_type": "code",
   "execution_count": 216,
   "id": "c9b1cfc4",
   "metadata": {},
   "outputs": [],
   "source": [
    "sport_text = \"Детальная разведка золоторудного месторождения Кумтор была завершена в 1989г, в 1990г Гиналмаззолото (ГА) выполнила геолого-экономическую оценку с подсчетом запасов в контуре карьера с рентабельностью к основным фондам 6% (ГКЗ СССР, протокол №10825). Решение об эксплуатации горного проекта было отложено до 2000г. В 1991г в связи с получением суверенитета Кыргызская республика (КР) в условиях стремительного падения экономических показателей, внедрения институтов частной собственности, отсутствие золотовалютных резервов и ресурсов государственного строительства, приняла решение о вовлечении этого крупнейшего ресурсного актива страны в эксплуатацию.\""
   ]
  },
  {
   "cell_type": "code",
   "execution_count": 217,
   "id": "bb23eddb",
   "metadata": {},
   "outputs": [],
   "source": [
    "sport_text = remove_multiple_spaces(remove_numbers(remove_punctuation(sport_text.lower())))\n",
    "sport_text = remove_stop_words(sport_text)\n",
    "sport_text = lemmatize_text(sport_text)"
   ]
  },
  {
   "cell_type": "code",
   "execution_count": 218,
   "id": "e3c08e19",
   "metadata": {},
   "outputs": [
    {
     "data": {
      "text/plain": [
       "'детальный разведка золоторудный месторождение кумтор завершать г г гиналмаззолото га выполнять геолого экономический оценка подсчет запас контур карьера рентабельность основный фонд гкз ссср протокол № решение эксплуатация горный проект откладывать г г связь получение суверенитет кыргызский республика кр условие стремительный падение экономический показатель внедрение институт частный собственность отсутствие золотовалютный резерв ресурс государственный строительство принимать решение вовлечение крупный ресурсный актив страна эксплуатация   \\n'"
      ]
     },
     "execution_count": 218,
     "metadata": {},
     "output_type": "execute_result"
    }
   ],
   "source": [
    "sport_text"
   ]
  },
  {
   "cell_type": "code",
   "execution_count": 219,
   "id": "cb684b72",
   "metadata": {},
   "outputs": [
    {
     "data": {
      "text/plain": [
       "array(['Аналитика'], dtype=object)"
      ]
     },
     "execution_count": 219,
     "metadata": {},
     "output_type": "execute_result"
    }
   ],
   "source": [
    "sport_pred = logreg.predict([sport_text])\n",
    "sport_pred"
   ]
  },
  {
   "cell_type": "markdown",
   "id": "f96f7f80",
   "metadata": {},
   "source": [
    "## "
   ]
  },
  {
   "cell_type": "markdown",
   "id": "cb418cd5",
   "metadata": {},
   "source": [
    "## Using transformers library"
   ]
  },
  {
   "cell_type": "markdown",
   "id": "053ddcf3",
   "metadata": {},
   "source": [
    "### Summarization"
   ]
  },
  {
   "cell_type": "code",
   "execution_count": 3,
   "id": "f52f7a48",
   "metadata": {},
   "outputs": [
    {
     "ename": "ValueError",
     "evalue": "Couldn't instantiate the backend tokenizer from one of: \n(1) a `tokenizers` library serialization file, \n(2) a slow tokenizer instance to convert or \n(3) an equivalent slow tokenizer class to instantiate and convert. \nYou need to have sentencepiece installed to convert a slow tokenizer to a fast one.",
     "output_type": "error",
     "traceback": [
      "\u001b[1;31m---------------------------------------------------------------------------\u001b[0m",
      "\u001b[1;31mValueError\u001b[0m                                Traceback (most recent call last)",
      "\u001b[1;32m~\\AppData\\Local\\Temp\\ipykernel_18624\\3423805856.py\u001b[0m in \u001b[0;36m<module>\u001b[1;34m\u001b[0m\n\u001b[0;32m      7\u001b[0m \u001b[1;33m\u001b[0m\u001b[0m\n\u001b[0;32m      8\u001b[0m \u001b[0mmodel_name\u001b[0m \u001b[1;33m=\u001b[0m \u001b[1;34m\"csebuetnlp/mT5_multilingual_XLSum\"\u001b[0m\u001b[1;33m\u001b[0m\u001b[1;33m\u001b[0m\u001b[0m\n\u001b[1;32m----> 9\u001b[1;33m \u001b[0mtokenizer\u001b[0m \u001b[1;33m=\u001b[0m \u001b[0mAutoTokenizer\u001b[0m\u001b[1;33m.\u001b[0m\u001b[0mfrom_pretrained\u001b[0m\u001b[1;33m(\u001b[0m\u001b[0mmodel_name\u001b[0m\u001b[1;33m)\u001b[0m\u001b[1;33m\u001b[0m\u001b[1;33m\u001b[0m\u001b[0m\n\u001b[0m\u001b[0;32m     10\u001b[0m \u001b[0mmodel\u001b[0m \u001b[1;33m=\u001b[0m \u001b[0mAutoModelForSeq2SeqLM\u001b[0m\u001b[1;33m.\u001b[0m\u001b[0mfrom_pretrained\u001b[0m\u001b[1;33m(\u001b[0m\u001b[0mmodel_name\u001b[0m\u001b[1;33m)\u001b[0m\u001b[1;33m\u001b[0m\u001b[1;33m\u001b[0m\u001b[0m\n\u001b[0;32m     11\u001b[0m \u001b[1;33m\u001b[0m\u001b[0m\n",
      "\u001b[1;32m~\\anaconda3\\envs\\myEnv\\lib\\site-packages\\transformers\\models\\auto\\tokenization_auto.py\u001b[0m in \u001b[0;36mfrom_pretrained\u001b[1;34m(cls, pretrained_model_name_or_path, *inputs, **kwargs)\u001b[0m\n\u001b[0;32m    617\u001b[0m                     \u001b[1;34mf\"Tokenizer class {tokenizer_class_candidate} does not exist or is not currently imported.\"\u001b[0m\u001b[1;33m\u001b[0m\u001b[1;33m\u001b[0m\u001b[0m\n\u001b[0;32m    618\u001b[0m                 )\n\u001b[1;32m--> 619\u001b[1;33m             \u001b[1;32mreturn\u001b[0m \u001b[0mtokenizer_class\u001b[0m\u001b[1;33m.\u001b[0m\u001b[0mfrom_pretrained\u001b[0m\u001b[1;33m(\u001b[0m\u001b[0mpretrained_model_name_or_path\u001b[0m\u001b[1;33m,\u001b[0m \u001b[1;33m*\u001b[0m\u001b[0minputs\u001b[0m\u001b[1;33m,\u001b[0m \u001b[1;33m**\u001b[0m\u001b[0mkwargs\u001b[0m\u001b[1;33m)\u001b[0m\u001b[1;33m\u001b[0m\u001b[1;33m\u001b[0m\u001b[0m\n\u001b[0m\u001b[0;32m    620\u001b[0m \u001b[1;33m\u001b[0m\u001b[0m\n\u001b[0;32m    621\u001b[0m         \u001b[1;31m# Otherwise we have to be creative.\u001b[0m\u001b[1;33m\u001b[0m\u001b[1;33m\u001b[0m\u001b[1;33m\u001b[0m\u001b[0m\n",
      "\u001b[1;32m~\\anaconda3\\envs\\myEnv\\lib\\site-packages\\transformers\\tokenization_utils_base.py\u001b[0m in \u001b[0;36mfrom_pretrained\u001b[1;34m(cls, pretrained_model_name_or_path, *init_inputs, **kwargs)\u001b[0m\n\u001b[0;32m   1784\u001b[0m             \u001b[0mlocal_files_only\u001b[0m\u001b[1;33m=\u001b[0m\u001b[0mlocal_files_only\u001b[0m\u001b[1;33m,\u001b[0m\u001b[1;33m\u001b[0m\u001b[1;33m\u001b[0m\u001b[0m\n\u001b[0;32m   1785\u001b[0m             \u001b[0m_commit_hash\u001b[0m\u001b[1;33m=\u001b[0m\u001b[0mcommit_hash\u001b[0m\u001b[1;33m,\u001b[0m\u001b[1;33m\u001b[0m\u001b[1;33m\u001b[0m\u001b[0m\n\u001b[1;32m-> 1786\u001b[1;33m             \u001b[1;33m**\u001b[0m\u001b[0mkwargs\u001b[0m\u001b[1;33m,\u001b[0m\u001b[1;33m\u001b[0m\u001b[1;33m\u001b[0m\u001b[0m\n\u001b[0m\u001b[0;32m   1787\u001b[0m         )\n\u001b[0;32m   1788\u001b[0m \u001b[1;33m\u001b[0m\u001b[0m\n",
      "\u001b[1;32m~\\anaconda3\\envs\\myEnv\\lib\\site-packages\\transformers\\tokenization_utils_base.py\u001b[0m in \u001b[0;36m_from_pretrained\u001b[1;34m(cls, resolved_vocab_files, pretrained_model_name_or_path, init_configuration, use_auth_token, cache_dir, local_files_only, _commit_hash, *init_inputs, **kwargs)\u001b[0m\n\u001b[0;32m   1930\u001b[0m         \u001b[1;31m# Instantiate tokenizer.\u001b[0m\u001b[1;33m\u001b[0m\u001b[1;33m\u001b[0m\u001b[1;33m\u001b[0m\u001b[0m\n\u001b[0;32m   1931\u001b[0m         \u001b[1;32mtry\u001b[0m\u001b[1;33m:\u001b[0m\u001b[1;33m\u001b[0m\u001b[1;33m\u001b[0m\u001b[0m\n\u001b[1;32m-> 1932\u001b[1;33m             \u001b[0mtokenizer\u001b[0m \u001b[1;33m=\u001b[0m \u001b[0mcls\u001b[0m\u001b[1;33m(\u001b[0m\u001b[1;33m*\u001b[0m\u001b[0minit_inputs\u001b[0m\u001b[1;33m,\u001b[0m \u001b[1;33m**\u001b[0m\u001b[0minit_kwargs\u001b[0m\u001b[1;33m)\u001b[0m\u001b[1;33m\u001b[0m\u001b[1;33m\u001b[0m\u001b[0m\n\u001b[0m\u001b[0;32m   1933\u001b[0m         \u001b[1;32mexcept\u001b[0m \u001b[0mOSError\u001b[0m\u001b[1;33m:\u001b[0m\u001b[1;33m\u001b[0m\u001b[1;33m\u001b[0m\u001b[0m\n\u001b[0;32m   1934\u001b[0m             raise OSError(\n",
      "\u001b[1;32m~\\anaconda3\\envs\\myEnv\\lib\\site-packages\\transformers\\models\\t5\\tokenization_t5_fast.py\u001b[0m in \u001b[0;36m__init__\u001b[1;34m(self, vocab_file, tokenizer_file, eos_token, unk_token, pad_token, extra_ids, additional_special_tokens, **kwargs)\u001b[0m\n\u001b[0;32m    140\u001b[0m             \u001b[0mextra_ids\u001b[0m\u001b[1;33m=\u001b[0m\u001b[0mextra_ids\u001b[0m\u001b[1;33m,\u001b[0m\u001b[1;33m\u001b[0m\u001b[1;33m\u001b[0m\u001b[0m\n\u001b[0;32m    141\u001b[0m             \u001b[0madditional_special_tokens\u001b[0m\u001b[1;33m=\u001b[0m\u001b[0madditional_special_tokens\u001b[0m\u001b[1;33m,\u001b[0m\u001b[1;33m\u001b[0m\u001b[1;33m\u001b[0m\u001b[0m\n\u001b[1;32m--> 142\u001b[1;33m             \u001b[1;33m**\u001b[0m\u001b[0mkwargs\u001b[0m\u001b[1;33m,\u001b[0m\u001b[1;33m\u001b[0m\u001b[1;33m\u001b[0m\u001b[0m\n\u001b[0m\u001b[0;32m    143\u001b[0m         )\n\u001b[0;32m    144\u001b[0m \u001b[1;33m\u001b[0m\u001b[0m\n",
      "\u001b[1;32m~\\anaconda3\\envs\\myEnv\\lib\\site-packages\\transformers\\tokenization_utils_fast.py\u001b[0m in \u001b[0;36m__init__\u001b[1;34m(self, *args, **kwargs)\u001b[0m\n\u001b[0;32m    119\u001b[0m         \u001b[1;32melse\u001b[0m\u001b[1;33m:\u001b[0m\u001b[1;33m\u001b[0m\u001b[1;33m\u001b[0m\u001b[0m\n\u001b[0;32m    120\u001b[0m             raise ValueError(\n\u001b[1;32m--> 121\u001b[1;33m                 \u001b[1;34m\"Couldn't instantiate the backend tokenizer from one of: \\n\"\u001b[0m\u001b[1;33m\u001b[0m\u001b[1;33m\u001b[0m\u001b[0m\n\u001b[0m\u001b[0;32m    122\u001b[0m                 \u001b[1;34m\"(1) a `tokenizers` library serialization file, \\n\"\u001b[0m\u001b[1;33m\u001b[0m\u001b[1;33m\u001b[0m\u001b[0m\n\u001b[0;32m    123\u001b[0m                 \u001b[1;34m\"(2) a slow tokenizer instance to convert or \\n\"\u001b[0m\u001b[1;33m\u001b[0m\u001b[1;33m\u001b[0m\u001b[0m\n",
      "\u001b[1;31mValueError\u001b[0m: Couldn't instantiate the backend tokenizer from one of: \n(1) a `tokenizers` library serialization file, \n(2) a slow tokenizer instance to convert or \n(3) an equivalent slow tokenizer class to instantiate and convert. \nYou need to have sentencepiece installed to convert a slow tokenizer to a fast one."
     ]
    }
   ],
   "source": [
    "import re\n",
    "from transformers import AutoTokenizer, AutoModelForSeq2SeqLM\n",
    "\n",
    "WHITESPACE_HANDLER = lambda k: re.sub('\\s+', ' ', re.sub('\\n+', ' ', k.strip()))\n",
    "\n",
    "article_text = \"За последние десять лет рассмотрены в рамках экспертизы для инвестиционных целей большой ряд технико-экономических оценок, подсчетов запасов рудных месторождений полезных ископаемых в КР и прилегающих странах. Выявлены значительные отклонения и ошибки, не редко имеют потенциально отрицательное значение для горного проекта. Встречались и работы, которые трудно охарактеризовать кроме как геологическое мошенничество. Подавляющая часть рассмотренных объектов не было рекомендовано инвестиционным фондам к рассмотрению без дополнительных работ, материалов или по причине искажения данных и выводов.\"\n",
    "\n",
    "model_name = \"csebuetnlp/mT5_multilingual_XLSum\"\n",
    "tokenizer = AutoTokenizer.from_pretrained(model_name)\n",
    "model = AutoModelForSeq2SeqLM.from_pretrained(model_name)\n",
    "\n",
    "input_ids = tokenizer(\n",
    "    [WHITESPACE_HANDLER(article_text)],\n",
    "    return_tensors=\"pt\",\n",
    "    padding=\"max_length\",\n",
    "    truncation=True,\n",
    "    max_length=512\n",
    ")[\"input_ids\"]\n",
    "\n",
    "output_ids = model.generate(\n",
    "    input_ids=input_ids,\n",
    "    max_length=84,\n",
    "    no_repeat_ngram_size=2,\n",
    "    num_beams=4\n",
    ")[0]\n",
    "\n",
    "summary = tokenizer.decode(\n",
    "    output_ids,\n",
    "    skip_special_tokens=True,\n",
    "    clean_up_tokenization_spaces=False\n",
    ")\n",
    "\n",
    "print(summary)"
   ]
  },
  {
   "cell_type": "code",
   "execution_count": null,
   "id": "7c10607e",
   "metadata": {},
   "outputs": [],
   "source": []
  }
 ],
 "metadata": {
  "kernelspec": {
   "display_name": "Python 3 (ipykernel)",
   "language": "python",
   "name": "python3"
  },
  "language_info": {
   "codemirror_mode": {
    "name": "ipython",
    "version": 3
   },
   "file_extension": ".py",
   "mimetype": "text/x-python",
   "name": "python",
   "nbconvert_exporter": "python",
   "pygments_lexer": "ipython3",
   "version": "3.7.13"
  }
 },
 "nbformat": 4,
 "nbformat_minor": 5
}
