{
 "cells": [
  {
   "cell_type": "code",
   "execution_count": 29,
   "id": "68f876c5",
   "metadata": {},
   "outputs": [],
   "source": [
    "import requests\n",
    "from bs4 import BeautifulSoup\n",
    "import re\n",
    "from time import sleep"
   ]
  },
  {
   "cell_type": "code",
   "execution_count": null,
   "id": "b574b342",
   "metadata": {},
   "outputs": [],
   "source": [
    "headers = {\"User-Agent\": \"CrookedHands/2.0 (EVM x8), CurlyFingers20/1;p\"}\n",
    "card_links = []\n",
    "\n",
    "for page in range(1,10,1):\n",
    "    sleep(3)\n",
    "    url = f\"https://culture.akipress.org/page:{page}/\"\n",
    "    response = requests.get(url,headers)\n",
    "\n",
    "    soup = BeautifulSoup(response.text,\"lxml\")\n",
    "\n",
    "    data = soup.find_all(\"div\",class_ = \"last-list\")\n",
    "\n",
    "    for i in data:\n",
    "        card_link = \"https://culture.akipress.org\" + i.find(\"a\").get(\"href\")\n",
    "        card_links.append(card_link)\n",
    "        "
   ]
  },
  {
   "cell_type": "code",
   "execution_count": null,
   "id": "4a5d84fa",
   "metadata": {},
   "outputs": [],
   "source": [
    "print(card_links)"
   ]
  },
  {
   "cell_type": "code",
   "execution_count": null,
   "id": "58be8950",
   "metadata": {},
   "outputs": [],
   "source": [
    "for i in card_links:\n",
    "    response = requests.get(url,headers)\n",
    "\n",
    "    soup = BeautifulSoup(response.text,\"lxml\")\n",
    "\n",
    "    data = soup.find_all(\"div\",class_ = \"last-list\")"
   ]
  }
 ],
 "metadata": {
  "kernelspec": {
   "display_name": "Python 3 (ipykernel)",
   "language": "python",
   "name": "python3"
  },
  "language_info": {
   "codemirror_mode": {
    "name": "ipython",
    "version": 3
   },
   "file_extension": ".py",
   "mimetype": "text/x-python",
   "name": "python",
   "nbconvert_exporter": "python",
   "pygments_lexer": "ipython3",
   "version": "3.7.13"
  }
 },
 "nbformat": 4,
 "nbformat_minor": 5
}
